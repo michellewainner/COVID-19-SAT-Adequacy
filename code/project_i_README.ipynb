{
 "cells": [
  {
   "cell_type": "markdown",
   "id": "4a01498e-e0eb-435a-947a-a1f2e393852f",
   "metadata": {},
   "source": [
    "# **Standardized Test Analysis**"
   ]
  },
  {
   "cell_type": "markdown",
   "id": "21c504af-2335-48e1-91a8-c24062674f6b",
   "metadata": {},
   "source": [
    "## Introduction"
   ]
  },
  {
   "cell_type": "markdown",
   "id": "3b6be38a-ce72-48dd-8d8b-e213d92348c5",
   "metadata": {},
   "source": [
    "The SAT has continually come into question as an appropriate measure of student intelligence and college readiness, particularly through the COVID-19 pandemic. Disputes amongst organizations have called for and against its use in high schools, with nearly 90 percent of the nation's bachelors degree-granting institutions becoming test-optional or \"test blind\" in 2020. \n",
    "\n",
    "Thus, is the SAT an adequate measure of student intelligence, such that students--who exhibit interest in pursuing math-oriented majors--demonstrate higher math section SAT scores? Likewise, is this interest and perceived academic proficiency in English also reflected in students' English reading/writing section SAT scores? Moreover, how have these SAT metrics changed in the past eight years, particularly in response to the COVID-19 pandemic?\n"
   ]
  },
  {
   "cell_type": "markdown",
   "id": "c04ae487-ebe3-4c58-a5ab-631a2370de41",
   "metadata": {},
   "source": [
    "## Data Dictionaries\n",
    "|Feature|Type|Dataset|Description|\n",
    "|---|---|---|---|\n",
    "|intended_college_major|object|all_sat|The college majors selected by students prior to taking the SAT in a given year.|\n",
    "|test_takers|integer|all_sat|The number of test takers who selected an intended college major prior to taking the SAT in a given year.|\n",
    "|percent|float|all_sat|The percentage of test takers who selected an intended college major out of the total number of test takers in a given year.|\n",
    "|total|integer|all_sat|The average SAT score per college major, the sum of the English Reading/Writing score and the Math scores in a given year. The maximum cumulative score is 1600.|\n",
    "|erw_score|integer|all_sat|The average English Reading/Writing score per college major in a given year. The maximum score in this category is 800.|\n",
    "|math_score|integer|all_sat|The average Math score per college major in a given year. The maximum score in this category is 800.|\n",
    "|year|integer|all_sat|The year in which the SAT was taken.|\n",
    "|orientation|object|orientation_all_sat| The category of intended college major as either math-oriented or English-oriented. Math-oriented majors typically feature STEM or hard science principles. English-oriented majors feature soft science principles with an emphasis on reading and writing."
   ]
  },
  {
   "cell_type": "markdown",
   "id": "2a9d982d-42fa-4c8b-90b1-2390bc6d8978",
   "metadata": {},
   "source": [
    "## Methods"
   ]
  },
  {
   "cell_type": "markdown",
   "id": "82225f0f-d1e4-4bd4-b851-ffc78a38b317",
   "metadata": {},
   "source": [
    "Data were cleaned using Python, Jupyter Notebook, Pandas, and imported libraries to remove null values, convert columns, combine datasets, and adjust data entry issues such that insights could be obtained. Results and visualizations were produced using Matplotlib and Seaborn. "
   ]
  },
  {
   "cell_type": "markdown",
   "id": "df4fed52-84d2-4b49-8034-a8c578766067",
   "metadata": {},
   "source": [
    "## Conclusions\n",
    "\n",
    "Overall, the findings suggest that the COVID-19 pandemic demonstrated significant impacts on a variety SAT metrics, including score and intended college major decisions, that were both immediate and long term. Furthermore, findings indicate an overall bias favoring English scores, regardless of major orientation, though this bias is slightly ameliorated in math-oriented majors. As a result, the SAT may not be an adequate measure of student intelligence as it relates to math-oriented fields, but may be a positive indicator of proficiency in English-oriented fields. Changes to the SAT math section as well as high school math curricula are critical in order to realign the test's content to students' academic abilities."
   ]
  }
 ],
 "metadata": {
  "kernelspec": {
   "display_name": "Python 3 (ipykernel)",
   "language": "python",
   "name": "python3"
  },
  "language_info": {
   "codemirror_mode": {
    "name": "ipython",
    "version": 3
   },
   "file_extension": ".py",
   "mimetype": "text/x-python",
   "name": "python",
   "nbconvert_exporter": "python",
   "pygments_lexer": "ipython3",
   "version": "3.9.7"
  }
 },
 "nbformat": 4,
 "nbformat_minor": 5
}
