{
 "cells": [
  {
   "cell_type": "markdown",
   "id": "4a01498e-e0eb-435a-947a-a1f2e393852f",
   "metadata": {},
   "source": [
    "# **Standardized Test Analysis**"
   ]
  },
  {
   "cell_type": "markdown",
   "id": "21c504af-2335-48e1-91a8-c24062674f6b",
   "metadata": {},
   "source": []
  },
  {
   "cell_type": "markdown",
   "id": "881ac8a4-38fc-4f68-978e-b5d95baa7831",
   "metadata": {},
   "source": [
    "## Problem Statement"
   ]
  },
  {
   "cell_type": "code",
   "execution_count": null,
   "id": "9de7b863-041b-48c9-9fd0-0889521dd1a5",
   "metadata": {},
   "outputs": [],
   "source": []
  }
 ],
 "metadata": {
  "kernelspec": {
   "display_name": "Python 3 (ipykernel)",
   "language": "python",
   "name": "python3"
  },
  "language_info": {
   "codemirror_mode": {
    "name": "ipython",
    "version": 3
   },
   "file_extension": ".py",
   "mimetype": "text/x-python",
   "name": "python",
   "nbconvert_exporter": "python",
   "pygments_lexer": "ipython3",
   "version": "3.9.7"
  }
 },
 "nbformat": 4,
 "nbformat_minor": 5
}
